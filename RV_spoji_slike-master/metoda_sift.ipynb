{
 "cells": [
  {
   "cell_type": "code",
   "execution_count": 1,
   "metadata": {},
   "outputs": [],
   "source": [
    "# uvoz knjiznjic\n",
    "from zlepek import Zlepek\n",
    "import imutils\n",
    "import cv2\n",
    "import numpy as np\n",
    "import matplotlib.pyplot as plt\n",
    "\n",
    "def prikazi_sliko(img):\n",
    "    cv2.imshow(\"slika\", img)\n",
    "    cv2.waitKey(0)\n",
    "    cv2.destroyAllWindows()"
   ]
  },
  {
   "cell_type": "code",
   "execution_count": 2,
   "metadata": {},
   "outputs": [],
   "source": [
    "# odpremo slike\n",
    "img1 = cv2.imread(\"data/ljubljana_1.png\")\n",
    "img2 = cv2.imread(\"data/ljubljana_2.png\")\n",
    "img3 = cv2.imread(\"data/ljubljana_3.png\")\n",
    "img4 = cv2.imread(\"data/ljubljana_4.png\")\n",
    "# img5 = cv2.imread(\"data/ljubljana_5.png\")"
   ]
  },
  {
   "cell_type": "code",
   "execution_count": 3,
   "metadata": {},
   "outputs": [],
   "source": [
    "# skaliramo slike na velikost sirine 400px\n",
    "img1 = imutils.resize(img1, width=400)\n",
    "img2 = imutils.resize(img2, width=400)\n",
    "img3 = imutils.resize(img3, width=400)\n",
    "img4 = imutils.resize(img4, width=400)\n",
    "# img5 = imutils.resize(img5, width=400)"
   ]
  },
  {
   "cell_type": "code",
   "execution_count": 4,
   "metadata": {},
   "outputs": [],
   "source": [
    "# ustvarimo razred in klicemo metode razreda\n",
    "zlepek = Zlepek([img1, img2, img3, img4])\n",
    "rezultat = zlepek.spoji()\n",
    "# zlepek.prikazi_ujemanja = True\n",
    "# rezultat, ujemanja = zlepek.spoji_sliki(img1, img1)"
   ]
  },
  {
   "cell_type": "code",
   "execution_count": 5,
   "metadata": {},
   "outputs": [],
   "source": [
    "# prikazemo slike\n",
    "# prikazi_sliko(ujemanja)\n",
    "prikazi_sliko(rezultat)"
   ]
  },
  {
   "cell_type": "code",
   "execution_count": null,
   "metadata": {},
   "outputs": [],
   "source": []
  }
 ],
 "metadata": {
  "language_info": {
   "codemirror_mode": {
    "name": "ipython",
    "version": 3
   },
   "file_extension": ".py",
   "mimetype": "text/x-python",
   "name": "python",
   "nbconvert_exporter": "python",
   "pygments_lexer": "ipython3",
   "version": "3.6.10-final"
  },
  "orig_nbformat": 2,
  "kernelspec": {
   "name": "python361064bitopencvsiftcondae3f7d5723af6417ba44e1207a3bc5803",
   "display_name": "Python 3.6.10 64-bit ('opencv_sift': conda)"
  }
 },
 "nbformat": 4,
 "nbformat_minor": 2
}
