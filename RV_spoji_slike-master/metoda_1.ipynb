{
 "cells": [
  {
   "cell_type": "code",
   "execution_count": null,
   "metadata": {},
   "outputs": [],
   "source": [
    "import cv2\n",
    "import matplotlib.pyplot as plt\n",
    "import numpy as np\n",
    "import imutils"
   ]
  },
  {
   "cell_type": "code",
   "execution_count": null,
   "metadata": {},
   "outputs": [],
   "source": [
    "img1 = cv2.imread(\"data/ljubljana_1.png\")\n",
    "img2 = cv2.imread(\"data/ljubljana_2.png\")\n",
    "img3 = cv2.imread(\"data/ljubljana_3.png\")\n",
    "img4 = cv2.imread(\"data/ljubljana_4.png\")\n",
    "images = [img1, img2, img3, img4]"
   ]
  },
  {
   "cell_type": "code",
   "execution_count": null,
   "metadata": {},
   "outputs": [],
   "source": [
    "def prikazi_sliko(img):\n",
    "    cv2.imshow(\"slika\", img)\n",
    "    cv2.waitKey(0)\n",
    "    cv2.destroyAllWindows()\n",
    "def skaliraj_sliko(img, faktor):\n",
    "    sirina = int(img.shape[1] / faktor)\n",
    "    visina = int(img.shape[0] / faktor)\n",
    "    dim = (sirina, visina)\n",
    "    return cv2.resize(img, dim,  interpolation = cv2.INTER_AREA)"
   ]
  },
  {
   "cell_type": "code",
   "execution_count": null,
   "metadata": {},
   "outputs": [],
   "source": [
    "slike_za_obdelavo = cv2.createStitcher()"
   ]
  },
  {
   "cell_type": "code",
   "execution_count": null,
   "metadata": {},
   "outputs": [],
   "source": [
    "(status, slika_spojena) = slike_za_obdelavo.stitch(images)"
   ]
  },
  {
   "cell_type": "code",
   "execution_count": null,
   "metadata": {},
   "outputs": [],
   "source": [
    "if status == 0:\n",
    "    print(\"Spenjanje slik je uspelo\")\n",
    "    print(\"Dimenzija spojene slike:    \", slika_spojena.shape)"
   ]
  },
  {
   "cell_type": "code",
   "execution_count": null,
   "metadata": {},
   "outputs": [],
   "source": [
    "slika_spojena = skaliraj_sliko(slika_spojena, 2)"
   ]
  },
  {
   "cell_type": "code",
   "execution_count": null,
   "metadata": {},
   "outputs": [],
   "source": [
    "slika_spojena = cv2.copyMakeBorder(slika_spojena, 10, 10, 10, 10, cv2.BORDER_CONSTANT, (0, 0, 0))"
   ]
  },
  {
   "cell_type": "code",
   "execution_count": null,
   "metadata": {},
   "outputs": [],
   "source": [
    "cv2.imshow(\"Rezultat\", slika_spojena)\n",
    "cv2.waitKey(0)"
   ]
  },
  {
   "cell_type": "code",
   "execution_count": null,
   "metadata": {},
   "outputs": [],
   "source": [
    "slika_sivinska = cv2.cvtColor(slika_spojena, cv2.COLOR_BGR2GRAY)\n",
    "thresh = cv2.threshold(slika_sivinska, 0, 255, cv2.THRESH_BINARY)[1]"
   ]
  },
  {
   "cell_type": "code",
   "execution_count": null,
   "metadata": {},
   "outputs": [],
   "source": [
    "cnts = cv2.findContours(thresh, cv2.RETR_EXTERNAL, cv2.CHAIN_APPROX_SIMPLE) \n",
    "obroba = imutils.grab_contours(cnts)\n",
    "obroba = obroba[0]"
   ]
  },
  {
   "cell_type": "code",
   "execution_count": null,
   "metadata": {},
   "outputs": [],
   "source": [
    "plt.plot(obroba[:,:, 0], obroba[:,:, 1], 'b')\n",
    "# povezi prvo in zadnjo tocko\n",
    "plt.plot([obroba[0,:,0], obroba[-1,:,0]], [obroba[0,:,1], obroba[-1,:,1]], 'b')\n",
    "plt.title(\"Zunanji rob spojene slike\")"
   ]
  },
  {
   "cell_type": "code",
   "execution_count": null,
   "metadata": {},
   "outputs": [],
   "source": [
    "obroba = cv2.findContours(thresh, cv2.RETR_EXTERNAL, cv2.CHAIN_APPROX_SIMPLE)\n",
    "# zajamemo ogljisca obrobe\n",
    "obroba = imutils.grab_contours(obroba)"
   ]
  },
  {
   "cell_type": "code",
   "execution_count": null,
   "metadata": {},
   "outputs": [],
   "source": [
    "# vrednosti v array\n",
    "c = max(obroba, key=cv2.contourArea)"
   ]
  },
  {
   "cell_type": "code",
   "execution_count": null,
   "metadata": {},
   "outputs": [],
   "source": [
    "# ustvarimo masko obmocja znotraj slike\n",
    "mask = np.zeros(thresh.shape, dtype=\"uint8\")\n",
    "(x, y, w, h) = cv2.boundingRect(c)\n",
    "# argumenti: zacetek, konec, barva, debelina\n",
    "cv2.rectangle(mask, (x, y), (x + w, y + h), 255, -1)"
   ]
  },
  {
   "cell_type": "code",
   "execution_count": null,
   "metadata": {},
   "outputs": [],
   "source": [
    "# kopije maske\n",
    "# prva za obmocje najmanjsega kvadrata slike\n",
    "# druga je stevec za iteracijo zmanjsevanja kvadrata\n",
    "minRect = mask.copy()\n",
    "sub = mask.copy()"
   ]
  },
  {
   "cell_type": "code",
   "execution_count": null,
   "metadata": {},
   "outputs": [],
   "source": [
    "# iteriramo dokler niso vse vrednosti vecje od nic\n",
    "while cv2.countNonZero(sub) > 0:\n",
    "    # zmanjsaj velikost maske nato odstej podrocja\n",
    "    minRect = cv2.erode(minRect, None)\n",
    "    sub = cv2.subtract(minRect, thresh)\n",
    "# rezultat je minRect, maska z najmanjsim obmocjem slike"
   ]
  },
  {
   "cell_type": "code",
   "execution_count": null,
   "metadata": {},
   "outputs": [],
   "source": [
    "# poiscemo obrobo pripravljenega najmanjsega kvadrata\n",
    "obroba_prava = cv2.findContours(minRect.copy(), cv2.RETR_EXTERNAL,\n",
    "    cv2.CHAIN_APPROX_SIMPLE)\n",
    "obroba_prava = imutils.grab_contours(obroba_prava)\n",
    "# v array\n",
    "c = max(obroba_prava, key=cv2.contourArea)\n",
    "# narisemo kvadrat\n",
    "(x, y, w, h) = cv2.boundingRect(c)"
   ]
  },
  {
   "cell_type": "code",
   "execution_count": null,
   "metadata": {},
   "outputs": [],
   "source": [
    "# uporabimo vrednosti odmikov kvadrata za zmanjsanje obsega spojene slike\n",
    "slika_spojena = slika_spojena[y:y + h, x:x + w]"
   ]
  },
  {
   "cell_type": "code",
   "execution_count": null,
   "metadata": {},
   "outputs": [],
   "source": [
    "cv2.imwrite(\"matoda1_oSlika.png\", slika_spojena) "
   ]
  },
  {
   "cell_type": "code",
   "execution_count": null,
   "metadata": {},
   "outputs": [],
   "source": [
    "# prikazi koncni rezultat\n",
    "cv2.imshow(\"slika\", slika_spojena)\n",
    "while True:\n",
    "    key = cv2.waitKey(0)\n",
    "    if key in [27, ord('q'), ord('Q')]:\n",
    "        cv2.destroyAllWindows()"
   ]
  },
  {
   "cell_type": "code",
   "execution_count": null,
   "metadata": {},
   "outputs": [],
   "source": []
  },
  {
   "cell_type": "code",
   "execution_count": null,
   "metadata": {},
   "outputs": [],
   "source": []
  },
  {
   "cell_type": "code",
   "execution_count": null,
   "metadata": {},
   "outputs": [],
   "source": []
  }
 ],
 "metadata": {
  "language_info": {
   "codemirror_mode": {
    "name": "ipython",
    "version": 3
   },
   "file_extension": ".py",
   "mimetype": "text/x-python",
   "name": "python",
   "nbconvert_exporter": "python",
   "pygments_lexer": "ipython3",
   "version": "3.6.10-final"
  },
  "orig_nbformat": 2,
  "kernelspec": {
   "name": "python361064bitopencvsiftcondae3f7d5723af6417ba44e1207a3bc5803",
   "display_name": "Python 3.6.10 64-bit ('opencv_sift': conda)"
  }
 },
 "nbformat": 4,
 "nbformat_minor": 2
}